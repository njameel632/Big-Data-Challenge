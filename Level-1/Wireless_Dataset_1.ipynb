{
  "nbformat": 4,
  "nbformat_minor": 0,
  "metadata": {
    "colab": {
      "name": "Wireless Dataset-1.ipynb",
      "provenance": [],
      "collapsed_sections": []
    },
    "kernelspec": {
      "name": "python3",
      "display_name": "Python 3"
    }
  },
  "cells": [
    {
      "cell_type": "code",
      "metadata": {
        "id": "CcpTrHiYb9JE",
        "colab_type": "code",
        "colab": {}
      },
      "source": [
        "# Install Java, Spark, and Findspark\n",
        "!apt-get install openjdk-8-jdk-headless -qq > /dev/null\n",
        "!wget -q http://www-us.apache.org/dist/spark/spark-2.4.5/spark-2.4.5-bin-hadoop2.7.tgz\n",
        "!tar xf spark-2.4.5-bin-hadoop2.7.tgz\n",
        "!pip install -q findspark\n",
        "\n",
        "# Set Environment Variables\n",
        "import os\n",
        "os.environ[\"JAVA_HOME\"] = \"/usr/lib/jvm/java-8-openjdk-amd64\"\n",
        "os.environ[\"SPARK_HOME\"] = \"/content/spark-2.4.5-bin-hadoop2.7\"\n",
        "\n",
        "# Start a SparkSession\n",
        "import findspark\n",
        "findspark.init()"
      ],
      "execution_count": 0,
      "outputs": []
    },
    {
      "cell_type": "code",
      "metadata": {
        "id": "RCJSaFficATg",
        "colab_type": "code",
        "outputId": "f3fdf8ad-5cf1-4ff6-8b04-d18f2481fe38",
        "colab": {
          "base_uri": "https://localhost:8080/",
          "height": 208
        }
      },
      "source": [
        "!wget https://jdbc.postgresql.org/download/postgresql-42.2.9.jar"
      ],
      "execution_count": 3,
      "outputs": [
        {
          "output_type": "stream",
          "text": [
            "--2020-05-28 23:24:09--  https://jdbc.postgresql.org/download/postgresql-42.2.9.jar\n",
            "Resolving jdbc.postgresql.org (jdbc.postgresql.org)... 72.32.157.228, 2001:4800:3e1:1::228\n",
            "Connecting to jdbc.postgresql.org (jdbc.postgresql.org)|72.32.157.228|:443... connected.\n",
            "HTTP request sent, awaiting response... 200 OK\n",
            "Length: 914037 (893K) [application/java-archive]\n",
            "Saving to: ‘postgresql-42.2.9.jar.1’\n",
            "\n",
            "\rpostgresql-42.2.9.j   0%[                    ]       0  --.-KB/s               \rpostgresql-42.2.9.j 100%[===================>] 892.61K  --.-KB/s    in 0.1s    \n",
            "\n",
            "2020-05-28 23:24:09 (8.91 MB/s) - ‘postgresql-42.2.9.jar.1’ saved [914037/914037]\n",
            "\n"
          ],
          "name": "stdout"
        }
      ]
    },
    {
      "cell_type": "code",
      "metadata": {
        "id": "y8jOoLGidCPM",
        "colab_type": "code",
        "colab": {}
      },
      "source": [
        "from pyspark.sql import SparkSession\n",
        "spark = SparkSession.builder.appName(\"ETL-1\").config(\"spark.driver.extraClassPath\",\"/content/postgresql-42.2.9.jar\").getOrCreate()"
      ],
      "execution_count": 0,
      "outputs": []
    },
    {
      "cell_type": "code",
      "metadata": {
        "id": "0t2PHaEUdGoE",
        "colab_type": "code",
        "outputId": "856fe02d-9f28-455f-9e8d-53b7ee8c5fd0",
        "colab": {
          "base_uri": "https://localhost:8080/",
          "height": 315
        }
      },
      "source": [
        "from pyspark import SparkFiles\n",
        "# Importing Data From Amazon S3 Bucket / Reviews Data\n",
        "url = \"https://s3.amazonaws.com/amazon-reviews-pds/tsv/amazon_reviews_us_Wireless_v1_00.tsv.gz\"\n",
        "spark.sparkContext.addFile(url)\n",
        "\n",
        "df = spark.read.option('header', 'true').csv(SparkFiles.get(\"amazon_reviews_us_Wireless_v1_00.tsv.gz\"), inferSchema=True, sep='\\t', dateFormat = \"yyyy-MM-dd\")\n",
        "df.show(10)"
      ],
      "execution_count": 5,
      "outputs": [
        {
          "output_type": "stream",
          "text": [
            "+-----------+-----------+--------------+----------+--------------+--------------------+----------------+-----------+-------------+-----------+----+-----------------+--------------------+--------------------+-------------------+\n",
            "|marketplace|customer_id|     review_id|product_id|product_parent|       product_title|product_category|star_rating|helpful_votes|total_votes|vine|verified_purchase|     review_headline|         review_body|        review_date|\n",
            "+-----------+-----------+--------------+----------+--------------+--------------------+----------------+-----------+-------------+-----------+----+-----------------+--------------------+--------------------+-------------------+\n",
            "|         US|   16414143|R3W4P9UBGNGH1U|B00YL0EKWE|     852431543|LG G4 Case Hard T...|        Wireless|          2|            1|          3|   N|                Y|Looks good, funct...|2 issues  -  Once...|2015-08-31 00:00:00|\n",
            "|         US|   50800750|R15V54KBMTQWAY|B00XK95RPQ|     516894650|Selfie Stick Fibl...|        Wireless|          4|            0|          0|   N|                N| A fun little gadget|I’m embarrassed t...|2015-08-31 00:00:00|\n",
            "|         US|   15184378| RY8I449HNXSVF|B00SXRXUKO|     984297154|Tribe AB40 Water ...|        Wireless|          5|            0|          0|   N|                Y|          Five Stars|  Fits iPhone 6 well|2015-08-31 00:00:00|\n",
            "|         US|   10203548|R18TLJYCKJFLSR|B009V5X1CE|     279912704|RAVPower® Element...|        Wireless|          5|            0|          0|   N|                Y|       Great charger|Great charger.  I...|2015-08-31 00:00:00|\n",
            "|         US|     488280|R1NK26SWS53B8Q|B00D93OVF0|     662791300|Fosmon Micro USB ...|        Wireless|          5|            0|          0|   N|                Y|          Five Stars|Great for the pri...|2015-08-31 00:00:00|\n",
            "|         US|   13334021|R11LOHEDYJALTN|B00XVGJMDQ|     421688488|iPhone 6 Case, Vo...|        Wireless|          5|            0|          0|   N|                Y|          Five Stars|Great Case, bette...|2015-08-31 00:00:00|\n",
            "|         US|   27520697|R3ALQVQB2P9LA7|B00KQW1X1C|     554285554|Nokia Lumia 630 R...|        Wireless|          4|            0|          0|   N|                Y|          Four Stars|Easy to set up an...|2015-08-31 00:00:00|\n",
            "|         US|   48086021|R3MWLXLNO21PDQ|B00IP1MQNK|     488006702|Lumsing 10400mah ...|        Wireless|          5|            0|          0|   N|                Y|          Five Stars|         Works great|2015-08-31 00:00:00|\n",
            "|         US|   12738196|R2L15IS24CX0LI|B00HVORET8|     389677711|iPhone 5S Battery...|        Wireless|          5|            0|          0|   N|                Y|      So far so good|So far so good. I...|2015-08-31 00:00:00|\n",
            "|         US|   15867807|R1DJ8976WPWVZU|B00HX3G6J6|     299654876|HTC One M8 Screen...|        Wireless|          3|            0|          0|   N|                Y|seems durable but...|seems durable but...|2015-08-31 00:00:00|\n",
            "+-----------+-----------+--------------+----------+--------------+--------------------+----------------+-----------+-------------+-----------+----+-----------------+--------------------+--------------------+-------------------+\n",
            "only showing top 10 rows\n",
            "\n"
          ],
          "name": "stdout"
        }
      ]
    },
    {
      "cell_type": "code",
      "metadata": {
        "id": "xkJLFpeodfAW",
        "colab_type": "code",
        "outputId": "0602e3f4-cfbb-46d6-cdee-b1f135824e6f",
        "colab": {
          "base_uri": "https://localhost:8080/",
          "height": 34
        }
      },
      "source": [
        "# Counting No. of Rows\n",
        "df.count()"
      ],
      "execution_count": 6,
      "outputs": [
        {
          "output_type": "execute_result",
          "data": {
            "text/plain": [
              "9002021"
            ]
          },
          "metadata": {
            "tags": []
          },
          "execution_count": 6
        }
      ]
    },
    {
      "cell_type": "code",
      "metadata": {
        "id": "dzxXoXrLhA2F",
        "colab_type": "code",
        "outputId": "68b5bf44-19cc-4c5c-ad42-657719d2f30d",
        "colab": {
          "base_uri": "https://localhost:8080/",
          "height": 312
        }
      },
      "source": [
        "df.printSchema()"
      ],
      "execution_count": 7,
      "outputs": [
        {
          "output_type": "stream",
          "text": [
            "root\n",
            " |-- marketplace: string (nullable = true)\n",
            " |-- customer_id: integer (nullable = true)\n",
            " |-- review_id: string (nullable = true)\n",
            " |-- product_id: string (nullable = true)\n",
            " |-- product_parent: integer (nullable = true)\n",
            " |-- product_title: string (nullable = true)\n",
            " |-- product_category: string (nullable = true)\n",
            " |-- star_rating: string (nullable = true)\n",
            " |-- helpful_votes: integer (nullable = true)\n",
            " |-- total_votes: integer (nullable = true)\n",
            " |-- vine: string (nullable = true)\n",
            " |-- verified_purchase: string (nullable = true)\n",
            " |-- review_headline: string (nullable = true)\n",
            " |-- review_body: string (nullable = true)\n",
            " |-- review_date: timestamp (nullable = true)\n",
            "\n"
          ],
          "name": "stdout"
        }
      ]
    },
    {
      "cell_type": "code",
      "metadata": {
        "id": "QgqSFaeVkRiP",
        "colab_type": "code",
        "outputId": "71c486bc-6a80-431c-e2cd-71cd44963d42",
        "colab": {
          "base_uri": "https://localhost:8080/",
          "height": 54
        }
      },
      "source": [
        "# Dropping Duplicates if there are any\n",
        "df.drop_duplicates()"
      ],
      "execution_count": 8,
      "outputs": [
        {
          "output_type": "execute_result",
          "data": {
            "text/plain": [
              "DataFrame[marketplace: string, customer_id: int, review_id: string, product_id: string, product_parent: int, product_title: string, product_category: string, star_rating: string, helpful_votes: int, total_votes: int, vine: string, verified_purchase: string, review_headline: string, review_body: string, review_date: timestamp]"
            ]
          },
          "metadata": {
            "tags": []
          },
          "execution_count": 8
        }
      ]
    },
    {
      "cell_type": "code",
      "metadata": {
        "id": "s9SfZuByn9em",
        "colab_type": "code",
        "outputId": "5e16ad66-3e40-406b-91eb-3e04df88bcd0",
        "colab": {
          "base_uri": "https://localhost:8080/",
          "height": 469
        }
      },
      "source": [
        "# Creating review_id_table\n",
        "\n",
        "review_id_table = df.select([\"review_id\",\"customer_id\",\"product_id\",\"product_parent\",\"review_date\"])\n",
        "review_id_table.show()\n"
      ],
      "execution_count": 9,
      "outputs": [
        {
          "output_type": "stream",
          "text": [
            "+--------------+-----------+----------+--------------+-------------------+\n",
            "|     review_id|customer_id|product_id|product_parent|        review_date|\n",
            "+--------------+-----------+----------+--------------+-------------------+\n",
            "|R3W4P9UBGNGH1U|   16414143|B00YL0EKWE|     852431543|2015-08-31 00:00:00|\n",
            "|R15V54KBMTQWAY|   50800750|B00XK95RPQ|     516894650|2015-08-31 00:00:00|\n",
            "| RY8I449HNXSVF|   15184378|B00SXRXUKO|     984297154|2015-08-31 00:00:00|\n",
            "|R18TLJYCKJFLSR|   10203548|B009V5X1CE|     279912704|2015-08-31 00:00:00|\n",
            "|R1NK26SWS53B8Q|     488280|B00D93OVF0|     662791300|2015-08-31 00:00:00|\n",
            "|R11LOHEDYJALTN|   13334021|B00XVGJMDQ|     421688488|2015-08-31 00:00:00|\n",
            "|R3ALQVQB2P9LA7|   27520697|B00KQW1X1C|     554285554|2015-08-31 00:00:00|\n",
            "|R3MWLXLNO21PDQ|   48086021|B00IP1MQNK|     488006702|2015-08-31 00:00:00|\n",
            "|R2L15IS24CX0LI|   12738196|B00HVORET8|     389677711|2015-08-31 00:00:00|\n",
            "|R1DJ8976WPWVZU|   15867807|B00HX3G6J6|     299654876|2015-08-31 00:00:00|\n",
            "|R3MRWNNR8CBTB7|    1972249|B00U4NATNQ|     577878727|2015-08-31 00:00:00|\n",
            "|R1DS6DKTUXAQK3|   10956619|B00SZEFDH8|     654620704|2015-08-31 00:00:00|\n",
            "| RWJM5E0TWUJD2|   14805911|B00JRJUL9U|     391166958|2015-08-31 00:00:00|\n",
            "|R1XTJKDYNCRGAC|   15611116|B00KQ4T0HE|     481551630|2015-08-31 00:00:00|\n",
            "|R2UZL3DPWEU1XW|   39298603|B00M0YWKPM|     685107474|2015-08-31 00:00:00|\n",
            "|R2EZXET9KBFFU3|   17552454|B00KDZEE68|     148320945|2015-08-31 00:00:00|\n",
            "|R26VY1L1FD3LPU|   12218556|B00BJN45GM|      47788188|2015-08-31 00:00:00|\n",
            "|R2SSA4NSFCV18T|   21872923|B00SA86SXW|     748759272|2015-08-31 00:00:00|\n",
            "|R1G6333JHJNEUQ|   16264332|B00Q3I68TU|     974085141|2015-08-31 00:00:00|\n",
            "|R2DRG0UZXJQ0PE|    6042304|B00TN4J1TA|     716174627|2015-08-31 00:00:00|\n",
            "+--------------+-----------+----------+--------------+-------------------+\n",
            "only showing top 20 rows\n",
            "\n"
          ],
          "name": "stdout"
        }
      ]
    },
    {
      "cell_type": "code",
      "metadata": {
        "id": "NP6PJFAPX42p",
        "colab_type": "code",
        "outputId": "33939cb3-8bb4-4f8c-9930-6b1578580e05",
        "colab": {
          "base_uri": "https://localhost:8080/",
          "height": 469
        }
      },
      "source": [
        "# Creating Products Table\n",
        "products = df.select([\"product_id\",\"product_title\"])\n",
        "products.show()"
      ],
      "execution_count": 10,
      "outputs": [
        {
          "output_type": "stream",
          "text": [
            "+----------+--------------------+\n",
            "|product_id|       product_title|\n",
            "+----------+--------------------+\n",
            "|B00YL0EKWE|LG G4 Case Hard T...|\n",
            "|B00XK95RPQ|Selfie Stick Fibl...|\n",
            "|B00SXRXUKO|Tribe AB40 Water ...|\n",
            "|B009V5X1CE|RAVPower® Element...|\n",
            "|B00D93OVF0|Fosmon Micro USB ...|\n",
            "|B00XVGJMDQ|iPhone 6 Case, Vo...|\n",
            "|B00KQW1X1C|Nokia Lumia 630 R...|\n",
            "|B00IP1MQNK|Lumsing 10400mah ...|\n",
            "|B00HVORET8|iPhone 5S Battery...|\n",
            "|B00HX3G6J6|HTC One M8 Screen...|\n",
            "|B00U4NATNQ|S6 Case - Bear Mo...|\n",
            "|B00SZEFDH8|BLU Studio X, Unl...|\n",
            "|B00JRJUL9U|EZOPower 5-Port U...|\n",
            "|B00KQ4T0HE|iPhone 6S Case &i...|\n",
            "|B00M0YWKPM| iPhone 6s Plus Case|\n",
            "|B00KDZEE68|zBoost ZB575-A TR...|\n",
            "|B00BJN45GM|OtterBox Defender...|\n",
            "|B00SA86SXW|Aduro PowerUP 30W...|\n",
            "|B00Q3I68TU|LilGadgets Connec...|\n",
            "|B00TN4J1TA|Anker Aluminum Mu...|\n",
            "+----------+--------------------+\n",
            "only showing top 20 rows\n",
            "\n"
          ],
          "name": "stdout"
        }
      ]
    },
    {
      "cell_type": "code",
      "metadata": {
        "id": "BMYZrcU5ZH89",
        "colab_type": "code",
        "outputId": "f9643b5c-d966-440f-b592-201524572db4",
        "colab": {
          "base_uri": "https://localhost:8080/",
          "height": 121
        }
      },
      "source": [
        "# calculating number of unique customer ids\n",
        "from pyspark.sql.functions import countDistinct, count\n",
        "count = df.select(countDistinct(\"customer_id\")).show()"
      ],
      "execution_count": 11,
      "outputs": [
        {
          "output_type": "stream",
          "text": [
            "+---------------------------+\n",
            "|count(DISTINCT customer_id)|\n",
            "+---------------------------+\n",
            "|                    5197905|\n",
            "+---------------------------+\n",
            "\n"
          ],
          "name": "stdout"
        }
      ]
    },
    {
      "cell_type": "code",
      "metadata": {
        "id": "wVdkc8d2pnoo",
        "colab_type": "code",
        "colab": {}
      },
      "source": [
        "# Counting the Number of Customers / Creating A Table customers\n",
        "\n",
        "customer = df.groupBy(\"customer_id\").count().orderBy(\"customer_id\").select(\"customer_id\", \"count\")"
      ],
      "execution_count": 0,
      "outputs": []
    },
    {
      "cell_type": "code",
      "metadata": {
        "id": "VkcUowKLVqEo",
        "colab_type": "code",
        "colab": {}
      },
      "source": [
        "customers = customer.withColumnRenamed(\"count\",\"customer_count\")"
      ],
      "execution_count": 0,
      "outputs": []
    },
    {
      "cell_type": "code",
      "metadata": {
        "id": "ydwSjbYIb5VZ",
        "colab_type": "code",
        "outputId": "6497972f-5010-4187-b101-269d72f8bad5",
        "colab": {
          "base_uri": "https://localhost:8080/",
          "height": 469
        }
      },
      "source": [
        "customers.show()"
      ],
      "execution_count": 14,
      "outputs": [
        {
          "output_type": "stream",
          "text": [
            "+-----------+--------------+\n",
            "|customer_id|customer_count|\n",
            "+-----------+--------------+\n",
            "|      10005|             1|\n",
            "|      10011|             1|\n",
            "|      10021|             1|\n",
            "|      10045|             1|\n",
            "|      10046|             5|\n",
            "|      10049|             2|\n",
            "|      10050|             1|\n",
            "|      10056|             1|\n",
            "|      10060|             1|\n",
            "|      10066|             1|\n",
            "|      10077|             1|\n",
            "|      10080|             1|\n",
            "|      10083|             1|\n",
            "|      10091|             1|\n",
            "|      10093|             1|\n",
            "|      10098|             2|\n",
            "|      10103|             1|\n",
            "|      10104|             1|\n",
            "|      10106|             1|\n",
            "|      10112|             1|\n",
            "+-----------+--------------+\n",
            "only showing top 20 rows\n",
            "\n"
          ],
          "name": "stdout"
        }
      ]
    },
    {
      "cell_type": "code",
      "metadata": {
        "id": "2RfTOHtScctg",
        "colab_type": "code",
        "outputId": "8bb595b7-4a7b-4e1a-a287-6ee86b94089d",
        "colab": {
          "base_uri": "https://localhost:8080/",
          "height": 469
        }
      },
      "source": [
        "# Creating  Vine Table\n",
        "\n",
        "vine_table = df.select([\"review_id\",\"star_rating\",\"helpful_votes\", \"total_votes\",\"vine\"])\n",
        "vine_table.show()"
      ],
      "execution_count": 37,
      "outputs": [
        {
          "output_type": "stream",
          "text": [
            "+--------------+-----------+-------------+-----------+----+\n",
            "|     review_id|star_rating|helpful_votes|total_votes|vine|\n",
            "+--------------+-----------+-------------+-----------+----+\n",
            "|R3W4P9UBGNGH1U|          2|            1|          3|   N|\n",
            "|R15V54KBMTQWAY|          4|            0|          0|   N|\n",
            "| RY8I449HNXSVF|          5|            0|          0|   N|\n",
            "|R18TLJYCKJFLSR|          5|            0|          0|   N|\n",
            "|R1NK26SWS53B8Q|          5|            0|          0|   N|\n",
            "|R11LOHEDYJALTN|          5|            0|          0|   N|\n",
            "|R3ALQVQB2P9LA7|          4|            0|          0|   N|\n",
            "|R3MWLXLNO21PDQ|          5|            0|          0|   N|\n",
            "|R2L15IS24CX0LI|          5|            0|          0|   N|\n",
            "|R1DJ8976WPWVZU|          3|            0|          0|   N|\n",
            "|R3MRWNNR8CBTB7|          5|            0|          0|   N|\n",
            "|R1DS6DKTUXAQK3|          5|            0|          0|   N|\n",
            "| RWJM5E0TWUJD2|          5|            0|          0|   N|\n",
            "|R1XTJKDYNCRGAC|          1|            0|          0|   N|\n",
            "|R2UZL3DPWEU1XW|          5|            0|          0|   N|\n",
            "|R2EZXET9KBFFU3|          1|            0|          0|   N|\n",
            "|R26VY1L1FD3LPU|          5|            0|          0|   N|\n",
            "|R2SSA4NSFCV18T|          5|            0|          0|   N|\n",
            "|R1G6333JHJNEUQ|          5|            0|          0|   N|\n",
            "|R2DRG0UZXJQ0PE|          5|            0|          0|   N|\n",
            "+--------------+-----------+-------------+-----------+----+\n",
            "only showing top 20 rows\n",
            "\n"
          ],
          "name": "stdout"
        }
      ]
    },
    {
      "cell_type": "code",
      "metadata": {
        "id": "QRTOP2rgszC9",
        "colab_type": "code",
        "colab": {
          "base_uri": "https://localhost:8080/",
          "height": 104
        },
        "outputId": "f3585fe7-d493-4851-f820-aa8dac1f983e"
      },
      "source": [
        "review_id_table.dtypes"
      ],
      "execution_count": 18,
      "outputs": [
        {
          "output_type": "execute_result",
          "data": {
            "text/plain": [
              "[('review_id', 'string'),\n",
              " ('customer_id', 'int'),\n",
              " ('product_id', 'string'),\n",
              " ('product_parent', 'int'),\n",
              " ('review_date', 'timestamp')]"
            ]
          },
          "metadata": {
            "tags": []
          },
          "execution_count": 18
        }
      ]
    },
    {
      "cell_type": "code",
      "metadata": {
        "id": "EdWOTwkrdW6i",
        "colab_type": "code",
        "colab": {}
      },
      "source": [
        "# Postgres Setup\n",
        "\n",
        "# Configure settings for RDS\n",
        "mode = \"append\"\n",
        "jdbc_url=\"jdbc:postgresql://mypostgresreviews.cxhm2v6cvy5g.us-east-2.rds.amazonaws.com:5432/reviews_db\"\n",
        "config = {\"user\":\"\", \n",
        "          \"password\": \"\", \n",
        "          \"driver\":\"org.postgresql.Driver\"}\n"
      ],
      "execution_count": 0,
      "outputs": []
    },
    {
      "cell_type": "code",
      "metadata": {
        "id": "duRuCuTBzj4t",
        "colab_type": "code",
        "colab": {}
      },
      "source": [
        "# Writing Tables to AWS Postgres\n",
        "\n",
        "review_id_table.write.jdbc(url=jdbc_url, table='review_id_table', mode=mode, properties=config)"
      ],
      "execution_count": 0,
      "outputs": []
    },
    {
      "cell_type": "code",
      "metadata": {
        "id": "KcCY8PdS1E7q",
        "colab_type": "code",
        "colab": {}
      },
      "source": [
        "# Loading Customers Table to AWS Postgres\n",
        "customers.write.jdbc(url=jdbc_url, table='customers', mode=mode, properties=config)"
      ],
      "execution_count": 0,
      "outputs": []
    },
    {
      "cell_type": "code",
      "metadata": {
        "id": "5Ryyy9U7E-Gp",
        "colab_type": "code",
        "colab": {}
      },
      "source": [
        "# Loading Products Table to AWS Postgres\n",
        "\n",
        "# products.write.jdbc(url=jdbc_url, table='products', mode=mode, properties=config)\n",
        "products.write.jdbc(url=jdbc_url, table='products', mode=mode, properties=config)"
      ],
      "execution_count": 0,
      "outputs": []
    },
    {
      "cell_type": "code",
      "metadata": {
        "id": "X03dXX_hIZmg",
        "colab_type": "code",
        "colab": {}
      },
      "source": [
        "# Loading Vine Table to AWS Postgres\n",
        "vine_table.write.jdbc(url=jdbc_url, table='vine_table', mode=mode, properties=config)"
      ],
      "execution_count": 0,
      "outputs": []
    },
    {
      "cell_type": "code",
      "metadata": {
        "id": "Yvhq5rWFRy8W",
        "colab_type": "code",
        "colab": {}
      },
      "source": [
        ""
      ],
      "execution_count": 0,
      "outputs": []
    }
  ]
}